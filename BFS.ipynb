{
  "nbformat": 4,
  "nbformat_minor": 0,
  "metadata": {
    "colab": {
      "name": "BFS.ipynb",
      "provenance": [],
      "collapsed_sections": []
    },
    "kernelspec": {
      "name": "python3",
      "display_name": "Python 3"
    },
    "language_info": {
      "name": "python"
    }
  },
  "cells": [
    {
      "cell_type": "code",
      "execution_count": 2,
      "metadata": {
        "colab": {
          "base_uri": "https://localhost:8080/"
        },
        "id": "FOyDJS6mjNDk",
        "outputId": "ce97d044-15a2-4229-cbae-63947cab7f7b"
      },
      "outputs": [
        {
          "output_type": "stream",
          "name": "stdout",
          "text": [
            "Breadth First Search traversal\n",
            "0 1 2 3 4 5\n"
          ]
        }
      ],
      "source": [
        "from collections import defaultdict\n",
        "\n",
        "# Basic Tree structure\n",
        "class Node:\n",
        "    def __init__(self):\n",
        "        # default dictionary to store graph\n",
        "        # key : Node , values : NeighbouringNodes\n",
        "        self.graph = defaultdict(list)\n",
        "\n",
        "    # since graph is bidirectional, add as neighbour both ways (both sources)\n",
        "    def add_edge(self, u: int, v: int):\n",
        "        self.graph[u].append(v)\n",
        "        self.graph[v].append(u)\n",
        "\n",
        "    def bfs(self, source: int):\n",
        "\n",
        "        bfs_traverse = []\n",
        "\n",
        "        # keep track of nodes traversed already\n",
        "        is_visited = [False] * len(self.graph)\n",
        "        # Queue used for keeping track of next node to be travelled - start with Source\n",
        "        queue = [source]\n",
        "\n",
        "        # mark source as visited (as its already added to queue_\n",
        "        is_visited[source] = True\n",
        "\n",
        "        while len(queue) > 0:\n",
        "\n",
        "            # pop (first) element of the queue\n",
        "            curr_node = queue.pop(0)\n",
        "            bfs_traverse.append(curr_node)\n",
        "\n",
        "            # add the neighbouring nodes that were still not visited\n",
        "            for neighbour_node in self.graph[curr_node]:\n",
        "                if not is_visited[neighbour_node]:\n",
        "                    queue.append(neighbour_node)\n",
        "                    # make visited True as they join queue\n",
        "                    is_visited[neighbour_node] = True\n",
        "\n",
        "        return bfs_traverse\n",
        "\n",
        "\n",
        "def run_bfs(node: Node, source: int):\n",
        "    return node.bfs(source)\n",
        "\n",
        "# main\n",
        "if __name__ == \"__main__\":\n",
        "    \"\"\"\n",
        "        Constructing below graph\n",
        "                   0\n",
        "                 /   \\\n",
        "                1     2\n",
        "               /  \\  /\n",
        "              3 --- 4\n",
        "               \\   /\n",
        "                 5\n",
        "    \"\"\"\n",
        "\n",
        "    node = Node()\n",
        "    node.add_edge(0, 1)\n",
        "    node.add_edge(0, 2)\n",
        "    node.add_edge(1, 3)\n",
        "    node.add_edge(1, 4)\n",
        "    node.add_edge(2, 4)\n",
        "    node.add_edge(3, 4)\n",
        "    node.add_edge(3, 5)\n",
        "    node.add_edge(4, 5)\n",
        "\n",
        "    bfs_traverse = run_bfs(node, 0)\n",
        "\n",
        "    print(\"Breadth First Search traversal\")\n",
        "    print(' '.join(str(ele) for ele in bfs_traverse))\n",
        "\n"
      ]
    },
    {
      "cell_type": "code",
      "source": [
        ""
      ],
      "metadata": {
        "id": "xGd6QO3AjS2z"
      },
      "execution_count": null,
      "outputs": []
    }
  ]
}